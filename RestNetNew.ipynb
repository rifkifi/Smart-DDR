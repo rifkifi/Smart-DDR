{
 "cells": [
  {
   "cell_type": "code",
   "execution_count": 1,
   "id": "bbd20ed1",
   "metadata": {
    "scrolled": true
   },
   "outputs": [],
   "source": [
    "import numpy as np #for numerical computations\n",
    "import pandas as pd #for dataframe operations\n",
    "\n",
    "from matplotlib import pyplot as plt #for viewing images and plots\n",
    "%matplotlib inline \n",
    "#So that Matplotlib plots don't open in separate windows outside the notebook\n",
    "\n",
    "import urllib #For fetching data from Web URLs\n",
    "\n",
    "import cv2   #For image processing\n",
    "\n",
    "from sklearn.preprocessing import LabelEncoder    #For encoding categorical variables\n",
    "from sklearn.model_selection import train_test_split #For splitting of dataset\n",
    "\n",
    "#All tensorflow utilities for creating, training and working with a CNN\n",
    "from tensorflow.keras.utils import to_categorical\n",
    "from tensorflow.keras.models import Sequential\n",
    "from tensorflow.keras.layers import Conv2D, MaxPool2D, BatchNormalization\n",
    "from tensorflow.keras.layers import Activation, Dropout, Flatten, Dense\n",
    "from tensorflow.keras.losses import categorical_crossentropy\n",
    "from tensorflow.keras.optimizers import Adam\n",
    "from tensorflow.keras.callbacks import ModelCheckpoint\n",
    "from tensorflow.keras.models import load_model\n",
    "from IPython.core.interactiveshell import InteractiveShell\n",
    "InteractiveShell.ast_node_interactivity = 'all'"
   ]
  },
  {
   "cell_type": "code",
   "execution_count": 2,
   "id": "5bda3cbd",
   "metadata": {},
   "outputs": [],
   "source": [
    "objek = 'hand'"
   ]
  },
  {
   "cell_type": "code",
   "execution_count": 3,
   "id": "3140ae7a",
   "metadata": {},
   "outputs": [],
   "source": [
    "def prepare_data(file_name):\n",
    "    df = pd.read_csv(r'{}'.format(file_name), names=[\"path\", \"target\"])\n",
    "    print(df[\"path\"].head())\n",
    "    np.where(df.applymap(lambda x: x == ''))\n",
    "    \n",
    "    # X Input Data\n",
    "    image_list = []\n",
    "\n",
    "    for path in df['path'] :\n",
    "#         print(path) \n",
    "        image_arr = cv2.imread(path)\n",
    "        image_224x224 = cv2.resize(image_arr, (224, 224))\n",
    "        image_list.append(image_224x224.astype('float')) \n",
    "    X = np.array(image_list)\n",
    "    print(\"Total Data = \", X.shape)\n",
    "\n",
    "    # Y Output Data\n",
    "    encoder = LabelEncoder()\n",
    "    Targets = encoder.fit_transform(df['target'])\n",
    "    n_classes = 2\n",
    "    Y = to_categorical(Targets, num_classes = n_classes)\n",
    "    \n",
    "    return X, Y"
   ]
  },
  {
   "cell_type": "code",
   "execution_count": 4,
   "id": "b334394c",
   "metadata": {
    "scrolled": true
   },
   "outputs": [
    {
     "name": "stdout",
     "output_type": "stream",
     "text": [
      "0    MURA-v1.1/train/XR_HAND/patient10169/study1_ne...\n",
      "1    MURA-v1.1/train/XR_HAND/patient10121/study1_po...\n",
      "2    MURA-v1.1/train/XR_HAND/patient09111/study1_ne...\n",
      "3    MURA-v1.1/train/XR_HAND/patient11008/study1_ne...\n",
      "4    MURA-v1.1/train/XR_HAND/patient09780/study1_po...\n",
      "Name: path, dtype: object\n",
      "Total Data =  (5543, 224, 224, 3)\n",
      "Data Train (4711, 224, 224, 3)\n",
      "Data Val (832, 224, 224, 3)\n"
     ]
    }
   ],
   "source": [
    "X, Y = prepare_data(\"{}_with_label_randomized.csv\".format(objek))\n",
    "X_train, X_val, Y_train, Y_val = train_test_split(X, Y, test_size=0.15, random_state=13)\n",
    "print(\"Data Train\", X_train.shape)\n",
    "print(\"Data Val\", X_val.shape)"
   ]
  },
  {
   "cell_type": "code",
   "execution_count": 5,
   "id": "67149e93",
   "metadata": {},
   "outputs": [],
   "source": [
    "from tensorflow.keras.applications.vgg16 import VGG16\n",
    "from tensorflow.keras import layers \n",
    "from tensorflow.keras import Model \n",
    "import tensorflow as tf \n",
    "from tensorflow.keras.applications import ResNet50\n",
    "from tensorflow.python.keras.models import Sequential\n",
    "from tensorflow.python.keras.layers import Dense, Flatten, GlobalAveragePooling2D\n",
    "\n",
    "# for layer in base_model.layers:\n",
    "#     layer.trainable = False\n",
    "\n",
    "base_model = Sequential()\n",
    "base_model.add(ResNet50(include_top=False, weights='imagenet', pooling='max'))\n",
    "base_model.add(Dense(2, activation='softmax'))\n",
    "\n",
    "base_model.compile(optimizer = tf.keras.optimizers.SGD(lr=0.0001), loss = 'binary_crossentropy', metrics = ['acc'])"
   ]
  },
  {
   "cell_type": "code",
   "execution_count": 6,
   "id": "b6342d0f",
   "metadata": {
    "scrolled": true
   },
   "outputs": [
    {
     "name": "stdout",
     "output_type": "stream",
     "text": [
      "Train on 4711 samples, validate on 832 samples\n",
      "Epoch 1/50\n",
      "4711/4711 [==============================] - 35s 7ms/sample - loss: 3.4815 - acc: 0.5561 - val_loss: 2.0486 - val_acc: 0.6899\n",
      "Epoch 2/50\n",
      "4711/4711 [==============================] - 21s 5ms/sample - loss: 1.9051 - acc: 0.6442 - val_loss: 1.8686 - val_acc: 0.6611\n",
      "Epoch 3/50\n",
      "4711/4711 [==============================] - 21s 5ms/sample - loss: 1.4719 - acc: 0.6833 - val_loss: 1.8514 - val_acc: 0.6202\n",
      "Epoch 4/50\n",
      "4711/4711 [==============================] - 22s 5ms/sample - loss: 1.2004 - acc: 0.7103 - val_loss: 1.9539 - val_acc: 0.6130\n",
      "Epoch 5/50\n",
      "4711/4711 [==============================] - 22s 5ms/sample - loss: 0.9831 - acc: 0.7434 - val_loss: 2.1110 - val_acc: 0.5901\n",
      "Epoch 6/50\n",
      "4711/4711 [==============================] - 22s 5ms/sample - loss: 0.8272 - acc: 0.7688 - val_loss: 2.0780 - val_acc: 0.6130\n",
      "Epoch 7/50\n",
      "4711/4711 [==============================] - 22s 5ms/sample - loss: 0.6898 - acc: 0.8007 - val_loss: 2.1751 - val_acc: 0.5889\n",
      "Epoch 8/50\n",
      "4711/4711 [==============================] - 22s 5ms/sample - loss: 0.5868 - acc: 0.8147 - val_loss: 2.3905 - val_acc: 0.5637\n",
      "Epoch 9/50\n",
      "4711/4711 [==============================] - 22s 5ms/sample - loss: 0.4891 - acc: 0.8397 - val_loss: 2.4444 - val_acc: 0.5373\n",
      "Epoch 10/50\n",
      "4711/4711 [==============================] - 22s 5ms/sample - loss: 0.4053 - acc: 0.8697 - val_loss: 2.3059 - val_acc: 0.5397\n",
      "Epoch 11/50\n",
      "4711/4711 [==============================] - 22s 5ms/sample - loss: 0.3478 - acc: 0.8852 - val_loss: 2.1527 - val_acc: 0.5517\n",
      "Epoch 12/50\n",
      "4711/4711 [==============================] - 22s 5ms/sample - loss: 0.3093 - acc: 0.8947 - val_loss: 2.1700 - val_acc: 0.5493\n",
      "Epoch 13/50\n",
      "4711/4711 [==============================] - 22s 5ms/sample - loss: 0.2611 - acc: 0.9136 - val_loss: 2.0197 - val_acc: 0.5769\n",
      "Epoch 14/50\n",
      "4711/4711 [==============================] - 22s 5ms/sample - loss: 0.2196 - acc: 0.9261 - val_loss: 2.1167 - val_acc: 0.5469\n",
      "Epoch 15/50\n",
      "4711/4711 [==============================] - 22s 5ms/sample - loss: 0.2075 - acc: 0.9304 - val_loss: 1.7369 - val_acc: 0.5998\n",
      "Epoch 16/50\n",
      "4711/4711 [==============================] - 22s 5ms/sample - loss: 0.1829 - acc: 0.9414 - val_loss: 1.5006 - val_acc: 0.6550\n",
      "Epoch 17/50\n",
      "4711/4711 [==============================] - 22s 5ms/sample - loss: 0.1742 - acc: 0.9452 - val_loss: 1.3996 - val_acc: 0.6719\n",
      "Epoch 18/50\n",
      "4711/4711 [==============================] - 22s 5ms/sample - loss: 0.1371 - acc: 0.9588 - val_loss: 1.3734 - val_acc: 0.6791\n",
      "Epoch 19/50\n",
      "4711/4711 [==============================] - 22s 5ms/sample - loss: 0.1329 - acc: 0.9592 - val_loss: 1.3335 - val_acc: 0.6923\n",
      "Epoch 20/50\n",
      "4711/4711 [==============================] - 22s 5ms/sample - loss: 0.1169 - acc: 0.9684 - val_loss: 1.3363 - val_acc: 0.6851\n",
      "Epoch 21/50\n",
      "4711/4711 [==============================] - 22s 5ms/sample - loss: 0.1015 - acc: 0.9713 - val_loss: 1.3261 - val_acc: 0.6899\n",
      "Epoch 22/50\n",
      "4711/4711 [==============================] - 22s 5ms/sample - loss: 0.1004 - acc: 0.9728 - val_loss: 1.3866 - val_acc: 0.6683\n",
      "Epoch 23/50\n",
      "4711/4711 [==============================] - 22s 5ms/sample - loss: 0.1023 - acc: 0.9720 - val_loss: 1.3091 - val_acc: 0.6935\n",
      "Epoch 24/50\n",
      "4711/4711 [==============================] - 22s 5ms/sample - loss: 0.0954 - acc: 0.9733 - val_loss: 1.3577 - val_acc: 0.6695\n",
      "Epoch 25/50\n",
      "4711/4711 [==============================] - 22s 5ms/sample - loss: 0.0817 - acc: 0.9803 - val_loss: 1.2889 - val_acc: 0.7139\n",
      "Epoch 26/50\n",
      "4711/4711 [==============================] - 22s 5ms/sample - loss: 0.0758 - acc: 0.9832 - val_loss: 1.2836 - val_acc: 0.6983\n",
      "Epoch 27/50\n",
      "4711/4711 [==============================] - 22s 5ms/sample - loss: 0.0811 - acc: 0.9781 - val_loss: 1.2958 - val_acc: 0.7019\n",
      "Epoch 28/50\n",
      "4711/4711 [==============================] - 22s 5ms/sample - loss: 0.0735 - acc: 0.9815 - val_loss: 1.2909 - val_acc: 0.7151\n",
      "Epoch 29/50\n",
      "4711/4711 [==============================] - 22s 5ms/sample - loss: 0.0606 - acc: 0.9868 - val_loss: 1.2924 - val_acc: 0.7127\n",
      "Epoch 30/50\n",
      "4711/4711 [==============================] - 22s 5ms/sample - loss: 0.0503 - acc: 0.9898 - val_loss: 1.2803 - val_acc: 0.7043\n",
      "Epoch 31/50\n",
      "4711/4711 [==============================] - 22s 5ms/sample - loss: 0.0522 - acc: 0.9887 - val_loss: 1.2932 - val_acc: 0.7055\n",
      "Epoch 32/50\n",
      "4711/4711 [==============================] - 22s 5ms/sample - loss: 0.0517 - acc: 0.9892 - val_loss: 1.2972 - val_acc: 0.7031\n",
      "Epoch 33/50\n",
      "4711/4711 [==============================] - 22s 5ms/sample - loss: 0.0527 - acc: 0.9887 - val_loss: 1.2819 - val_acc: 0.6947\n",
      "Epoch 34/50\n",
      "4711/4711 [==============================] - 22s 5ms/sample - loss: 0.0442 - acc: 0.9919 - val_loss: 1.2875 - val_acc: 0.6875\n",
      "Epoch 35/50\n",
      "4711/4711 [==============================] - 22s 5ms/sample - loss: 0.0402 - acc: 0.9938 - val_loss: 1.2636 - val_acc: 0.7151\n",
      "Epoch 36/50\n",
      "4711/4711 [==============================] - 22s 5ms/sample - loss: 0.0377 - acc: 0.9947 - val_loss: 1.2793 - val_acc: 0.6995\n",
      "Epoch 37/50\n",
      "4711/4711 [==============================] - 22s 5ms/sample - loss: 0.0421 - acc: 0.9917 - val_loss: 1.3001 - val_acc: 0.6983\n",
      "Epoch 38/50\n",
      "4711/4711 [==============================] - 22s 5ms/sample - loss: 0.0414 - acc: 0.9913 - val_loss: 1.2650 - val_acc: 0.7188\n",
      "Epoch 39/50\n",
      "4711/4711 [==============================] - 22s 5ms/sample - loss: 0.0365 - acc: 0.9932 - val_loss: 1.2799 - val_acc: 0.7115\n",
      "Epoch 40/50\n",
      "4711/4711 [==============================] - 22s 5ms/sample - loss: 0.0348 - acc: 0.9945 - val_loss: 1.2810 - val_acc: 0.7055\n",
      "Epoch 41/50\n",
      "4711/4711 [==============================] - 22s 5ms/sample - loss: 0.0349 - acc: 0.9936 - val_loss: 1.2814 - val_acc: 0.7151\n",
      "Epoch 42/50\n",
      "4711/4711 [==============================] - 22s 5ms/sample - loss: 0.0313 - acc: 0.9947 - val_loss: 1.2863 - val_acc: 0.7224\n",
      "Epoch 43/50\n",
      "4711/4711 [==============================] - 22s 5ms/sample - loss: 0.0320 - acc: 0.9951 - val_loss: 1.2983 - val_acc: 0.6971\n",
      "Epoch 44/50\n",
      "4711/4711 [==============================] - 22s 5ms/sample - loss: 0.0244 - acc: 0.9966 - val_loss: 1.2805 - val_acc: 0.7043\n",
      "Epoch 45/50\n",
      "4711/4711 [==============================] - 22s 5ms/sample - loss: 0.0319 - acc: 0.9945 - val_loss: 1.2832 - val_acc: 0.7067\n",
      "Epoch 46/50\n",
      "4711/4711 [==============================] - 22s 5ms/sample - loss: 0.0282 - acc: 0.9970 - val_loss: 1.2710 - val_acc: 0.7091\n",
      "Epoch 47/50\n",
      "4711/4711 [==============================] - 22s 5ms/sample - loss: 0.0229 - acc: 0.9981 - val_loss: 1.2739 - val_acc: 0.7151\n",
      "Epoch 48/50\n",
      "4711/4711 [==============================] - 22s 5ms/sample - loss: 0.0284 - acc: 0.9955 - val_loss: 1.2789 - val_acc: 0.7127\n",
      "Epoch 49/50\n",
      "4711/4711 [==============================] - 22s 5ms/sample - loss: 0.0305 - acc: 0.9947 - val_loss: 1.2803 - val_acc: 0.7103\n",
      "Epoch 50/50\n",
      "4711/4711 [==============================] - 22s 5ms/sample - loss: 0.0285 - acc: 0.9958 - val_loss: 1.2716 - val_acc: 0.7115\n"
     ]
    }
   ],
   "source": [
    "save_at = \"RestNet_Model/restnet_{}.h5\".format(objek)\n",
    "save_best = ModelCheckpoint (save_at, monitor='val_acc', verbose=0, save_best_only=True, save_weights_only=False, mode='max')\n",
    "hist = base_model.fit(X_train, Y_train, validation_data = (X_val, Y_val), callbacks=[save_best], batch_size=128, epochs = 50)"
   ]
  },
  {
   "cell_type": "code",
   "execution_count": 7,
   "id": "d1feba51",
   "metadata": {},
   "outputs": [],
   "source": [
    "# model.save('vgg_{}_81_float.h5'.format(objek))"
   ]
  },
  {
   "cell_type": "code",
   "execution_count": 8,
   "id": "c5d2c8e4",
   "metadata": {},
   "outputs": [
    {
     "name": "stdout",
     "output_type": "stream",
     "text": [
      "0    MURA-v1.1/valid/XR_HAND/patient11365/study1_ne...\n",
      "1    MURA-v1.1/valid/XR_HAND/patient11601/study1_ne...\n",
      "2    MURA-v1.1/valid/XR_HAND/patient11597/study1_ne...\n",
      "3    MURA-v1.1/valid/XR_HAND/patient11519/study1_po...\n",
      "4    MURA-v1.1/valid/XR_HAND/patient11509/study1_po...\n",
      "Name: path, dtype: object\n",
      "Total Data =  (460, 224, 224, 3)\n"
     ]
    }
   ],
   "source": [
    "X_test, Y_test = prepare_data(\"{}_val_path_label.csv\".format(objek))\n",
    "# X_test, Y_test = prepare_data(\"finger_val_path_label.csv\")"
   ]
  },
  {
   "cell_type": "code",
   "execution_count": 9,
   "id": "3e0150e7",
   "metadata": {
    "scrolled": true
   },
   "outputs": [
    {
     "name": "stdout",
     "output_type": "stream",
     "text": [
      "Accuracy over the test set: \n",
      "  62.39 %\n"
     ]
    }
   ],
   "source": [
    "model_load = load_model(\"RestNet_Model/restnet_{}.h5\".format(objek))\n",
    "score = model_load.evaluate(X_test, Y_test, verbose=0)\n",
    "print('Accuracy over the test set: \\n ', round((score[1]*100), 2), '%')"
   ]
  },
  {
   "cell_type": "code",
   "execution_count": 10,
   "id": "cb0e49a6",
   "metadata": {},
   "outputs": [],
   "source": [
    "Y_pred = model_load.predict(X_test)"
   ]
  },
  {
   "cell_type": "code",
   "execution_count": 11,
   "id": "55fa68de",
   "metadata": {},
   "outputs": [
    {
     "data": {
      "text/plain": [
       "(460, 224, 224, 3)"
      ]
     },
     "execution_count": 11,
     "metadata": {},
     "output_type": "execute_result"
    }
   ],
   "source": [
    "X_test.shape"
   ]
  },
  {
   "cell_type": "code",
   "execution_count": 12,
   "id": "f4a67030",
   "metadata": {
    "scrolled": true
   },
   "outputs": [
    {
     "data": {
      "text/plain": [
       "<Figure size 432x288 with 0 Axes>"
      ]
     },
     "execution_count": 12,
     "metadata": {},
     "output_type": "execute_result"
    },
    {
     "data": {
      "text/plain": [
       "(<matplotlib.image.AxesImage at 0x24e24f4b848>, (-0.5, 223.5, 223.5, -0.5))"
      ]
     },
     "execution_count": 12,
     "metadata": {},
     "output_type": "execute_result"
    },
    {
     "ename": "NameError",
     "evalue": "name 'encoder' is not defined",
     "output_type": "error",
     "traceback": [
      "\u001b[1;31m---------------------------------------------------------------------------\u001b[0m",
      "\u001b[1;31mNameError\u001b[0m                                 Traceback (most recent call last)",
      "\u001b[1;32m~\\AppData\\Local\\Temp\\ipykernel_26172\\420978588.py\u001b[0m in \u001b[0;36m<module>\u001b[1;34m\u001b[0m\n\u001b[0;32m      4\u001b[0m   \u001b[0mplt\u001b[0m\u001b[1;33m.\u001b[0m\u001b[0mimshow\u001b[0m\u001b[1;33m(\u001b[0m\u001b[0mX_test\u001b[0m\u001b[1;33m[\u001b[0m\u001b[0mrand_num\u001b[0m\u001b[1;33m]\u001b[0m\u001b[1;33m.\u001b[0m\u001b[0mastype\u001b[0m\u001b[1;33m(\u001b[0m\u001b[1;34m'int'\u001b[0m\u001b[1;33m)\u001b[0m\u001b[1;33m)\u001b[0m\u001b[1;33m,\u001b[0m \u001b[0mplt\u001b[0m\u001b[1;33m.\u001b[0m\u001b[0maxis\u001b[0m\u001b[1;33m(\u001b[0m\u001b[1;34m'off'\u001b[0m\u001b[1;33m)\u001b[0m\u001b[1;33m\u001b[0m\u001b[1;33m\u001b[0m\u001b[0m\n\u001b[0;32m      5\u001b[0m   \u001b[1;32mif\u001b[0m \u001b[0mnp\u001b[0m\u001b[1;33m.\u001b[0m\u001b[0mwhere\u001b[0m\u001b[1;33m(\u001b[0m\u001b[0mY_pred\u001b[0m\u001b[1;33m[\u001b[0m\u001b[0mrand_num\u001b[0m\u001b[1;33m]\u001b[0m \u001b[1;33m==\u001b[0m \u001b[1;36m1\u001b[0m\u001b[1;33m)\u001b[0m\u001b[1;33m[\u001b[0m\u001b[1;36m0\u001b[0m\u001b[1;33m]\u001b[0m\u001b[1;33m.\u001b[0m\u001b[0msum\u001b[0m\u001b[1;33m(\u001b[0m\u001b[1;33m)\u001b[0m \u001b[1;33m==\u001b[0m \u001b[0mnp\u001b[0m\u001b[1;33m.\u001b[0m\u001b[0mwhere\u001b[0m\u001b[1;33m(\u001b[0m\u001b[0mY_test\u001b[0m\u001b[1;33m[\u001b[0m\u001b[0mrand_num\u001b[0m\u001b[1;33m]\u001b[0m \u001b[1;33m==\u001b[0m \u001b[1;36m1\u001b[0m\u001b[1;33m)\u001b[0m\u001b[1;33m[\u001b[0m\u001b[1;36m0\u001b[0m\u001b[1;33m]\u001b[0m\u001b[1;33m.\u001b[0m\u001b[0msum\u001b[0m\u001b[1;33m(\u001b[0m\u001b[1;33m)\u001b[0m\u001b[1;33m:\u001b[0m\u001b[1;33m\u001b[0m\u001b[1;33m\u001b[0m\u001b[0m\n\u001b[1;32m----> 6\u001b[1;33m     \u001b[0mplt\u001b[0m\u001b[1;33m.\u001b[0m\u001b[0mtitle\u001b[0m\u001b[1;33m(\u001b[0m\u001b[0mencoder\u001b[0m\u001b[1;33m.\u001b[0m\u001b[0mclasses_\u001b[0m\u001b[1;33m[\u001b[0m\u001b[0mnp\u001b[0m\u001b[1;33m.\u001b[0m\u001b[0mwhere\u001b[0m\u001b[1;33m(\u001b[0m\u001b[0mY_pred\u001b[0m\u001b[1;33m[\u001b[0m\u001b[0mrand_num\u001b[0m\u001b[1;33m]\u001b[0m \u001b[1;33m==\u001b[0m \u001b[1;36m1\u001b[0m\u001b[1;33m)\u001b[0m\u001b[1;33m[\u001b[0m\u001b[1;36m0\u001b[0m\u001b[1;33m]\u001b[0m\u001b[1;33m.\u001b[0m\u001b[0msum\u001b[0m\u001b[1;33m(\u001b[0m\u001b[1;33m)\u001b[0m\u001b[1;33m]\u001b[0m\u001b[1;33m,\u001b[0m \u001b[0mcolor\u001b[0m\u001b[1;33m=\u001b[0m\u001b[1;34m'g'\u001b[0m\u001b[1;33m)\u001b[0m\u001b[1;33m\u001b[0m\u001b[1;33m\u001b[0m\u001b[0m\n\u001b[0m\u001b[0;32m      7\u001b[0m   \u001b[1;32melse\u001b[0m \u001b[1;33m:\u001b[0m\u001b[1;33m\u001b[0m\u001b[1;33m\u001b[0m\u001b[0m\n\u001b[0;32m      8\u001b[0m     \u001b[0mplt\u001b[0m\u001b[1;33m.\u001b[0m\u001b[0mtitle\u001b[0m\u001b[1;33m(\u001b[0m\u001b[0mencoder\u001b[0m\u001b[1;33m.\u001b[0m\u001b[0mclasses_\u001b[0m\u001b[1;33m[\u001b[0m\u001b[0mnp\u001b[0m\u001b[1;33m.\u001b[0m\u001b[0mwhere\u001b[0m\u001b[1;33m(\u001b[0m\u001b[0mY_pred\u001b[0m\u001b[1;33m[\u001b[0m\u001b[0mrand_num\u001b[0m\u001b[1;33m]\u001b[0m \u001b[1;33m==\u001b[0m \u001b[1;36m1\u001b[0m\u001b[1;33m)\u001b[0m\u001b[1;33m[\u001b[0m\u001b[1;36m0\u001b[0m\u001b[1;33m]\u001b[0m\u001b[1;33m.\u001b[0m\u001b[0msum\u001b[0m\u001b[1;33m(\u001b[0m\u001b[1;33m)\u001b[0m\u001b[1;33m]\u001b[0m\u001b[1;33m,\u001b[0m \u001b[0mcolor\u001b[0m\u001b[1;33m=\u001b[0m\u001b[1;34m'r'\u001b[0m\u001b[1;33m)\u001b[0m\u001b[1;33m\u001b[0m\u001b[1;33m\u001b[0m\u001b[0m\n",
      "\u001b[1;31mNameError\u001b[0m: name 'encoder' is not defined"
     ]
    },
    {
     "data": {
      "image/png": "[encoded data removed]",
      "text/plain": [
       "<Figure size 432x288 with 1 Axes>"
      ]
     },
     "metadata": {
      "needs_background": "light"
     },
     "output_type": "display_data"
    }
   ],
   "source": [
    "np.random.seed(87)\n",
    "for rand_num in np.random.randint(0, len(Y_test), 15):\n",
    "  plt.figure()\n",
    "  plt.imshow(X_test[rand_num].astype('int')), plt.axis('off')\n",
    "  if np.where(Y_pred[rand_num] == 1)[0].sum() == np.where(Y_test[rand_num] == 1)[0].sum():\n",
    "    plt.title(encoder.classes_[np.where(Y_pred[rand_num] == 1)[0].sum()], color='g')\n",
    "  else :\n",
    "    plt.title(encoder.classes_[np.where(Y_pred[rand_num] == 1)[0].sum()], color='r')"
   ]
  },
  {
   "cell_type": "code",
   "execution_count": null,
   "id": "818519a5",
   "metadata": {},
   "outputs": [],
   "source": []
  }
 ],
 "metadata": {
  "kernelspec": {
   "display_name": "Python 3 (ipykernel)",
   "language": "python",
   "name": "python3"
  },
  "language_info": {
   "codemirror_mode": {
    "name": "ipython",
    "version": 3
   },
   "file_extension": ".py",
   "mimetype": "text/x-python",
   "name": "python",
   "nbconvert_exporter": "python",
   "pygments_lexer": "ipython3",
   "version": "3.7.13"
  }
 },
 "nbformat": 4,
 "nbformat_minor": 5
}
