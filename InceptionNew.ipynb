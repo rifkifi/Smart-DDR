{
 "cells": [
  {
   "cell_type": "code",
   "execution_count": 20,
   "id": "bbd20ed1",
   "metadata": {
    "scrolled": true
   },
   "outputs": [],
   "source": [
    "import numpy as np #for numerical computations\n",
    "import pandas as pd #for dataframe operations\n",
    "\n",
    "from matplotlib import pyplot as plt #for viewing images and plots\n",
    "%matplotlib inline \n",
    "#So that Matplotlib plots don't open in separate windows outside the notebook\n",
    "\n",
    "import urllib #For fetching data from Web URLs\n",
    "\n",
    "import cv2   #For image processing\n",
    "\n",
    "from sklearn.preprocessing import LabelEncoder    #For encoding categorical variables\n",
    "from sklearn.model_selection import train_test_split #For splitting of dataset\n",
    "\n",
    "#All tensorflow utilities for creating, training and working with a CNN\n",
    "from tensorflow.keras.utils import to_categorical\n",
    "from tensorflow.keras.models import Sequential\n",
    "from tensorflow.keras.layers import Conv2D, MaxPool2D, BatchNormalization\n",
    "from tensorflow.keras.layers import Activation, Dropout, Flatten, Dense\n",
    "from tensorflow.keras.losses import categorical_crossentropy\n",
    "from tensorflow.keras.optimizers import Adam\n",
    "from tensorflow.keras.callbacks import ModelCheckpoint\n",
    "from tensorflow.keras.models import load_model\n",
    "from IPython.core.interactiveshell import InteractiveShell\n",
    "InteractiveShell.ast_node_interactivity = 'all'"
   ]
  },
  {
   "cell_type": "code",
   "execution_count": 21,
   "id": "5bda3cbd",
   "metadata": {},
   "outputs": [],
   "source": [
    "objek = 'hand'"
   ]
  },
  {
   "cell_type": "code",
   "execution_count": 22,
   "id": "c31be06a",
   "metadata": {},
   "outputs": [],
   "source": [
    "def prepare_data(file_name):\n",
    "    df = pd.read_csv(r'{}'.format(file_name), names=[\"path\", \"target\"])\n",
    "    print(df[\"path\"].head())\n",
    "    np.where(df.applymap(lambda x: x == ''))\n",
    "    \n",
    "    # X Input Data\n",
    "    image_list = []\n",
    "\n",
    "    for path in df['path'] :\n",
    "#         print(path) \n",
    "        image_arr = cv2.imread(path)\n",
    "        image_224x224 = cv2.resize(image_arr, (150, 150))\n",
    "        image_list.append(image_224x224.astype('float')) \n",
    "    X = np.array(image_list)\n",
    "    print(\"Total Data = \", X.shape)\n",
    "\n",
    "    # Y Output Data\n",
    "    encoder = LabelEncoder()\n",
    "    Targets = encoder.fit_transform(df['target'])\n",
    "    n_classes = 2\n",
    "    Y = to_categorical(Targets, num_classes = n_classes)\n",
    "    \n",
    "    return X, Y"
   ]
  },
  {
   "cell_type": "code",
   "execution_count": 23,
   "id": "b3894bae",
   "metadata": {
    "scrolled": true
   },
   "outputs": [
    {
     "name": "stdout",
     "output_type": "stream",
     "text": [
      "0    MURA-v1.1/train/XR_HAND/patient10169/study1_ne...\n",
      "1    MURA-v1.1/train/XR_HAND/patient10121/study1_po...\n",
      "2    MURA-v1.1/train/XR_HAND/patient09111/study1_ne...\n",
      "3    MURA-v1.1/train/XR_HAND/patient11008/study1_ne...\n",
      "4    MURA-v1.1/train/XR_HAND/patient09780/study1_po...\n",
      "Name: path, dtype: object\n",
      "Total Data =  (5543, 150, 150, 3)\n",
      "Data Train (4711, 150, 150, 3)\n",
      "Data Val (832, 150, 150, 3)\n"
     ]
    }
   ],
   "source": [
    "X, Y = prepare_data(\"{}_with_label_randomized.csv\".format(objek))\n",
    "X = X/255\n",
    "X_train, X_val, Y_train, Y_val = train_test_split(X, Y, test_size=0.15, random_state=13)\n",
    "print(\"Data Train\", X_train.shape)\n",
    "print(\"Data Val\", X_val.shape)"
   ]
  },
  {
   "cell_type": "code",
   "execution_count": 24,
   "id": "67149e93",
   "metadata": {
    "scrolled": true
   },
   "outputs": [],
   "source": [
    "from tensorflow.keras import layers \n",
    "from tensorflow.keras import Model \n",
    "import tensorflow as tf \n",
    "from tensorflow.keras.optimizers import RMSprop\n",
    "from tensorflow.keras.applications.inception_v3 import InceptionV3\n",
    "\n",
    "base_model = InceptionV3(input_shape = (150, 150, 3), include_top = False, weights = 'imagenet')\n",
    "\n",
    "for layer in base_model.layers:\n",
    "    layer.trainable = False\n",
    "\n",
    "x = layers.Flatten()(base_model.output)\n",
    "x = layers.Dense(1024, activation='relu')(x)\n",
    "x = layers.Dropout(0.2)(x)\n",
    "\n",
    "# Add a final sigmoid layer with 1 node for classification output\n",
    "x = layers.Dense(2, activation='softmax')(x)\n",
    "\n",
    "model = tf.keras.models.Model(base_model.input, x)\n",
    "\n",
    "model.compile(optimizer = RMSprop(lr=0.0001), loss = 'binary_crossentropy', metrics = ['acc'])"
   ]
  },
  {
   "cell_type": "code",
   "execution_count": 25,
   "id": "b6342d0f",
   "metadata": {
    "scrolled": true
   },
   "outputs": [
    {
     "name": "stdout",
     "output_type": "stream",
     "text": [
      "Train on 4711 samples, validate on 832 samples\n",
      "Epoch 1/100\n",
      "4711/4711 [==============================] - 12s 3ms/sample - loss: 1.9623 - acc: 0.6549 - val_loss: 1.0825 - val_acc: 0.7428\n",
      "Epoch 2/100\n",
      "4711/4711 [==============================] - 4s 842us/sample - loss: 0.5844 - acc: 0.7139 - val_loss: 1.4371 - val_acc: 0.7428\n",
      "Epoch 3/100\n",
      "4711/4711 [==============================] - 4s 844us/sample - loss: 0.5385 - acc: 0.7493 - val_loss: 1.1116 - val_acc: 0.7428\n",
      "Epoch 4/100\n",
      "4711/4711 [==============================] - 5s 1ms/sample - loss: 0.5295 - acc: 0.7567 - val_loss: 0.6323 - val_acc: 0.7440\n",
      "Epoch 5/100\n",
      "4711/4711 [==============================] - 4s 899us/sample - loss: 0.4707 - acc: 0.7680 - val_loss: 0.7515 - val_acc: 0.7440\n",
      "Epoch 6/100\n",
      "4711/4711 [==============================] - 4s 866us/sample - loss: 0.4490 - acc: 0.7949 - val_loss: 0.9825 - val_acc: 0.7428\n",
      "Epoch 7/100\n",
      "4711/4711 [==============================] - 4s 858us/sample - loss: 0.3869 - acc: 0.8332 - val_loss: 0.8403 - val_acc: 0.7392\n",
      "Epoch 8/100\n",
      "4711/4711 [==============================] - 4s 849us/sample - loss: 0.4048 - acc: 0.8349 - val_loss: 1.0671 - val_acc: 0.7440\n",
      "Epoch 9/100\n",
      "4711/4711 [==============================] - 4s 843us/sample - loss: 0.3704 - acc: 0.8576 - val_loss: 0.7303 - val_acc: 0.5757\n",
      "Epoch 10/100\n",
      "4711/4711 [==============================] - 4s 861us/sample - loss: 0.3042 - acc: 0.8873 - val_loss: 0.6968 - val_acc: 0.7440\n",
      "Epoch 11/100\n",
      "4711/4711 [==============================] - 4s 849us/sample - loss: 0.2719 - acc: 0.9094 - val_loss: 0.7922 - val_acc: 0.5889\n",
      "Epoch 12/100\n",
      "4711/4711 [==============================] - 4s 847us/sample - loss: 0.3303 - acc: 0.9119 - val_loss: 0.7304 - val_acc: 0.6767\n",
      "Epoch 13/100\n",
      "4711/4711 [==============================] - 4s 856us/sample - loss: 0.2361 - acc: 0.9257 - val_loss: 0.8068 - val_acc: 0.7188\n",
      "Epoch 14/100\n",
      "4711/4711 [==============================] - 4s 846us/sample - loss: 0.2376 - acc: 0.9240 - val_loss: 0.7439 - val_acc: 0.6490\n",
      "Epoch 15/100\n",
      "4711/4711 [==============================] - 5s 1ms/sample - loss: 0.2256 - acc: 0.9278 - val_loss: 1.2792 - val_acc: 0.7464\n",
      "Epoch 16/100\n",
      "4711/4711 [==============================] - 4s 857us/sample - loss: 0.2312 - acc: 0.9257 - val_loss: 1.2357 - val_acc: 0.3389\n",
      "Epoch 17/100\n",
      "4711/4711 [==============================] - 4s 858us/sample - loss: 0.2112 - acc: 0.9189 - val_loss: 0.9422 - val_acc: 0.7452\n",
      "Epoch 18/100\n",
      "4711/4711 [==============================] - 4s 853us/sample - loss: 0.1265 - acc: 0.9711 - val_loss: 0.8073 - val_acc: 0.6803\n",
      "Epoch 19/100\n",
      "4711/4711 [==============================] - 4s 845us/sample - loss: 0.2002 - acc: 0.9359 - val_loss: 1.8711 - val_acc: 0.7440\n",
      "Epoch 20/100\n",
      "4711/4711 [==============================] - 4s 847us/sample - loss: 0.1887 - acc: 0.9469 - val_loss: 0.7804 - val_acc: 0.7428\n",
      "Epoch 21/100\n",
      "4711/4711 [==============================] - 5s 1ms/sample - loss: 0.1835 - acc: 0.9658 - val_loss: 0.8115 - val_acc: 0.7500\n",
      "Epoch 22/100\n",
      "4711/4711 [==============================] - 4s 888us/sample - loss: 0.1919 - acc: 0.9454 - val_loss: 0.8562 - val_acc: 0.7428\n",
      "Epoch 23/100\n",
      "4711/4711 [==============================] - 4s 857us/sample - loss: 0.1014 - acc: 0.9794 - val_loss: 0.6467 - val_acc: 0.6863\n",
      "Epoch 24/100\n",
      "4711/4711 [==============================] - 4s 849us/sample - loss: 0.0619 - acc: 0.9938 - val_loss: 2.1550 - val_acc: 0.7428\n",
      "Epoch 25/100\n",
      "4711/4711 [==============================] - 4s 850us/sample - loss: 0.1968 - acc: 0.9747 - val_loss: 1.3585 - val_acc: 0.7464\n",
      "Epoch 26/100\n",
      "4711/4711 [==============================] - 4s 851us/sample - loss: 0.1454 - acc: 0.9516 - val_loss: 1.6965 - val_acc: 0.7428\n",
      "Epoch 27/100\n",
      "4711/4711 [==============================] - 4s 847us/sample - loss: 0.1932 - acc: 0.9450 - val_loss: 0.9026 - val_acc: 0.7428\n",
      "Epoch 28/100\n",
      "4711/4711 [==============================] - 4s 847us/sample - loss: 0.0464 - acc: 0.9981 - val_loss: 1.3481 - val_acc: 0.7452\n",
      "Epoch 29/100\n",
      "4711/4711 [==============================] - 4s 851us/sample - loss: 0.1297 - acc: 0.9722 - val_loss: 1.9612 - val_acc: 0.7428\n",
      "Epoch 30/100\n",
      "4711/4711 [==============================] - 4s 847us/sample - loss: 0.0497 - acc: 0.9936 - val_loss: 1.2362 - val_acc: 0.7464\n",
      "Epoch 31/100\n",
      "4711/4711 [==============================] - 4s 848us/sample - loss: 0.1641 - acc: 0.9440 - val_loss: 1.0901 - val_acc: 0.7428\n",
      "Epoch 32/100\n",
      "4711/4711 [==============================] - 4s 853us/sample - loss: 0.0345 - acc: 0.9985 - val_loss: 1.5871 - val_acc: 0.7416\n",
      "Epoch 33/100\n",
      "4711/4711 [==============================] - 4s 851us/sample - loss: 0.1749 - acc: 0.9418 - val_loss: 1.0692 - val_acc: 0.7428\n",
      "Epoch 34/100\n",
      "4711/4711 [==============================] - 4s 850us/sample - loss: 0.0315 - acc: 0.9985 - val_loss: 1.2714 - val_acc: 0.7464\n",
      "Epoch 35/100\n",
      "4711/4711 [==============================] - 4s 843us/sample - loss: 0.1431 - acc: 0.9488 - val_loss: 1.0947 - val_acc: 0.7440\n",
      "Epoch 36/100\n",
      "4711/4711 [==============================] - 4s 848us/sample - loss: 0.0230 - acc: 0.9992 - val_loss: 1.0154 - val_acc: 0.7139\n",
      "Epoch 37/100\n",
      "4711/4711 [==============================] - 4s 850us/sample - loss: 0.0304 - acc: 0.9936 - val_loss: 3.9557 - val_acc: 0.7428\n",
      "Epoch 38/100\n",
      "4711/4711 [==============================] - 4s 852us/sample - loss: 0.2018 - acc: 0.9832 - val_loss: 1.4678 - val_acc: 0.7476\n",
      "Epoch 39/100\n",
      "4711/4711 [==============================] - 4s 853us/sample - loss: 0.1805 - acc: 0.9459 - val_loss: 1.0284 - val_acc: 0.7452\n",
      "Epoch 40/100\n",
      "4711/4711 [==============================] - 4s 848us/sample - loss: 0.0227 - acc: 0.9996 - val_loss: 1.3993 - val_acc: 0.7452\n",
      "Epoch 41/100\n",
      "4711/4711 [==============================] - 4s 847us/sample - loss: 0.0122 - acc: 0.9998 - val_loss: 1.2290 - val_acc: 0.7368\n",
      "Epoch 42/100\n",
      "4711/4711 [==============================] - 4s 851us/sample - loss: 0.1830 - acc: 0.9561 - val_loss: 1.2491 - val_acc: 0.7440\n",
      "Epoch 43/100\n",
      "4711/4711 [==============================] - 4s 851us/sample - loss: 0.0144 - acc: 0.9985 - val_loss: 1.6530 - val_acc: 0.7440\n",
      "Epoch 44/100\n",
      "4711/4711 [==============================] - 4s 854us/sample - loss: 0.1564 - acc: 0.9794 - val_loss: 1.0598 - val_acc: 0.7464\n",
      "Epoch 45/100\n",
      "4711/4711 [==============================] - 4s 853us/sample - loss: 0.0132 - acc: 0.9996 - val_loss: 1.5277 - val_acc: 0.7464\n",
      "Epoch 46/100\n",
      "4711/4711 [==============================] - 4s 852us/sample - loss: 0.1892 - acc: 0.9783 - val_loss: 1.1307 - val_acc: 0.7476\n",
      "Epoch 47/100\n",
      "4711/4711 [==============================] - 4s 858us/sample - loss: 0.0135 - acc: 0.9996 - val_loss: 1.8783 - val_acc: 0.7464\n",
      "Epoch 48/100\n",
      "4711/4711 [==============================] - 4s 851us/sample - loss: 0.1783 - acc: 0.9798 - val_loss: 1.1472 - val_acc: 0.7464\n",
      "Epoch 49/100\n",
      "4711/4711 [==============================] - 4s 851us/sample - loss: 0.0102 - acc: 1.0000 - val_loss: 1.6168 - val_acc: 0.7488\n",
      "Epoch 50/100\n",
      "4711/4711 [==============================] - 4s 857us/sample - loss: 0.0065 - acc: 1.0000 - val_loss: 1.2118 - val_acc: 0.6803\n",
      "Epoch 51/100\n",
      "4711/4711 [==============================] - 4s 854us/sample - loss: 0.1614 - acc: 0.9539 - val_loss: 1.5861 - val_acc: 0.7452\n",
      "Epoch 52/100\n",
      "4711/4711 [==============================] - 4s 871us/sample - loss: 0.0076 - acc: 0.9996 - val_loss: 1.6119 - val_acc: 0.7464\n",
      "Epoch 53/100\n",
      "4711/4711 [==============================] - 4s 859us/sample - loss: 0.1841 - acc: 0.9499 - val_loss: 1.0496 - val_acc: 0.7476\n",
      "Epoch 54/100\n",
      "4711/4711 [==============================] - 4s 870us/sample - loss: 0.0112 - acc: 1.0000 - val_loss: 1.2974 - val_acc: 0.7464\n",
      "Epoch 55/100\n",
      "4711/4711 [==============================] - 4s 859us/sample - loss: 0.0072 - acc: 0.9994 - val_loss: 2.4979 - val_acc: 0.7440\n",
      "Epoch 56/100\n",
      "4711/4711 [==============================] - 4s 921us/sample - loss: 0.2944 - acc: 0.9459 - val_loss: 1.7406 - val_acc: 0.7440\n",
      "Epoch 57/100\n",
      "4711/4711 [==============================] - 4s 875us/sample - loss: 0.0089 - acc: 0.9998 - val_loss: 1.7486 - val_acc: 0.7440\n",
      "Epoch 58/100\n",
      "4711/4711 [==============================] - 4s 852us/sample - loss: 0.0072 - acc: 0.9994 - val_loss: 1.1924 - val_acc: 0.7344\n",
      "Epoch 59/100\n"
     ]
    },
    {
     "name": "stdout",
     "output_type": "stream",
     "text": [
      "4711/4711 [==============================] - 4s 854us/sample - loss: 0.0061 - acc: 0.9996 - val_loss: 1.5452 - val_acc: 0.7464\n",
      "Epoch 60/100\n",
      "4711/4711 [==============================] - 4s 867us/sample - loss: 0.2442 - acc: 0.9493 - val_loss: 1.6395 - val_acc: 0.7452\n",
      "Epoch 61/100\n",
      "4711/4711 [==============================] - 4s 858us/sample - loss: 0.0077 - acc: 0.9994 - val_loss: 1.8436 - val_acc: 0.7464\n",
      "Epoch 62/100\n",
      "4711/4711 [==============================] - 4s 848us/sample - loss: 0.0062 - acc: 0.9992 - val_loss: 1.1078 - val_acc: 0.6154\n",
      "Epoch 63/100\n",
      "4711/4711 [==============================] - 4s 849us/sample - loss: 0.1431 - acc: 0.9820 - val_loss: 1.8118 - val_acc: 0.7476\n",
      "Epoch 64/100\n",
      "4711/4711 [==============================] - 4s 845us/sample - loss: 0.0069 - acc: 0.9998 - val_loss: 2.4414 - val_acc: 0.7476\n",
      "Epoch 65/100\n",
      "4711/4711 [==============================] - 4s 851us/sample - loss: 0.1211 - acc: 0.9839 - val_loss: 3.8796 - val_acc: 0.7428\n",
      "Epoch 66/100\n",
      "4711/4711 [==============================] - 4s 857us/sample - loss: 0.0252 - acc: 0.9915 - val_loss: 1.7070 - val_acc: 0.7488\n",
      "Epoch 67/100\n",
      "4711/4711 [==============================] - 4s 855us/sample - loss: 0.0038 - acc: 1.0000 - val_loss: 2.1453 - val_acc: 0.7464\n",
      "Epoch 68/100\n",
      "4711/4711 [==============================] - 4s 862us/sample - loss: 0.1233 - acc: 0.9669 - val_loss: 1.1686 - val_acc: 0.7452\n",
      "Epoch 69/100\n",
      "4711/4711 [==============================] - 4s 852us/sample - loss: 0.0095 - acc: 0.9998 - val_loss: 1.7068 - val_acc: 0.7440\n",
      "Epoch 70/100\n",
      "4711/4711 [==============================] - 4s 855us/sample - loss: 0.0057 - acc: 0.9996 - val_loss: 2.4032 - val_acc: 0.7440\n",
      "Epoch 71/100\n",
      "4711/4711 [==============================] - 4s 854us/sample - loss: 0.0034 - acc: 0.9998 - val_loss: 2.8698 - val_acc: 0.7440\n",
      "Epoch 72/100\n",
      "4711/4711 [==============================] - 4s 860us/sample - loss: 0.3679 - acc: 0.9467 - val_loss: 1.5651 - val_acc: 0.7464\n",
      "Epoch 73/100\n",
      "4711/4711 [==============================] - 4s 862us/sample - loss: 0.0052 - acc: 0.9998 - val_loss: 1.7163 - val_acc: 0.7452\n",
      "Epoch 74/100\n",
      "4711/4711 [==============================] - 4s 913us/sample - loss: 0.0041 - acc: 1.0000 - val_loss: 1.8118 - val_acc: 0.7416\n",
      "Epoch 75/100\n",
      "4711/4711 [==============================] - 4s 875us/sample - loss: 0.0031 - acc: 1.0000 - val_loss: 2.2740 - val_acc: 0.7440\n",
      "Epoch 76/100\n",
      "4711/4711 [==============================] - 4s 867us/sample - loss: 0.2072 - acc: 0.9512 - val_loss: 1.6758 - val_acc: 0.7428\n",
      "Epoch 77/100\n",
      "4711/4711 [==============================] - 4s 852us/sample - loss: 0.0051 - acc: 0.9998 - val_loss: 1.5901 - val_acc: 0.7440\n",
      "Epoch 78/100\n",
      "4711/4711 [==============================] - 4s 851us/sample - loss: 0.0028 - acc: 1.0000 - val_loss: 2.2074 - val_acc: 0.7452\n",
      "Epoch 79/100\n",
      "4711/4711 [==============================] - 4s 842us/sample - loss: 0.1908 - acc: 0.9518 - val_loss: 1.7620 - val_acc: 0.7428\n",
      "Epoch 80/100\n",
      "4711/4711 [==============================] - 4s 858us/sample - loss: 0.0076 - acc: 0.9996 - val_loss: 1.6426 - val_acc: 0.7464\n",
      "Epoch 81/100\n",
      "4711/4711 [==============================] - 4s 857us/sample - loss: 0.0049 - acc: 0.9992 - val_loss: 1.1582 - val_acc: 0.7320\n",
      "Epoch 82/100\n",
      "4711/4711 [==============================] - 4s 852us/sample - loss: 0.0035 - acc: 1.0000 - val_loss: 1.4459 - val_acc: 0.7392\n",
      "Epoch 83/100\n",
      "4711/4711 [==============================] - 4s 862us/sample - loss: 0.1513 - acc: 0.9739 - val_loss: 1.7061 - val_acc: 0.7428\n",
      "Epoch 84/100\n",
      "4711/4711 [==============================] - 4s 855us/sample - loss: 0.0039 - acc: 0.9998 - val_loss: 2.2691 - val_acc: 0.7452\n",
      "Epoch 85/100\n",
      "4711/4711 [==============================] - 4s 858us/sample - loss: 0.0024 - acc: 0.9998 - val_loss: 1.9226 - val_acc: 0.7452\n",
      "Epoch 86/100\n",
      "4711/4711 [==============================] - 4s 865us/sample - loss: 0.2103 - acc: 0.9537 - val_loss: 1.5433 - val_acc: 0.7404\n",
      "Epoch 87/100\n",
      "4711/4711 [==============================] - 4s 864us/sample - loss: 0.0041 - acc: 0.9994 - val_loss: 1.6501 - val_acc: 0.7416\n",
      "Epoch 88/100\n",
      "4711/4711 [==============================] - 4s 848us/sample - loss: 0.0022 - acc: 1.0000 - val_loss: 2.2075 - val_acc: 0.7440\n",
      "Epoch 89/100\n",
      "4711/4711 [==============================] - 4s 852us/sample - loss: 0.0033 - acc: 0.9998 - val_loss: 2.4828 - val_acc: 0.7428\n",
      "Epoch 90/100\n",
      "4711/4711 [==============================] - 4s 862us/sample - loss: 0.2194 - acc: 0.9599 - val_loss: 1.3807 - val_acc: 0.7476\n",
      "Epoch 91/100\n",
      "4711/4711 [==============================] - 4s 859us/sample - loss: 0.0040 - acc: 0.9998 - val_loss: 1.7091 - val_acc: 0.7452\n",
      "Epoch 92/100\n",
      "4711/4711 [==============================] - 4s 851us/sample - loss: 0.0030 - acc: 0.9996 - val_loss: 1.9167 - val_acc: 0.7476\n",
      "Epoch 93/100\n",
      "4711/4711 [==============================] - 4s 850us/sample - loss: 0.0018 - acc: 1.0000 - val_loss: 2.6064 - val_acc: 0.7452\n",
      "Epoch 94/100\n",
      "4711/4711 [==============================] - 4s 909us/sample - loss: 0.0028 - acc: 0.9992 - val_loss: 2.8230 - val_acc: 0.7452\n",
      "Epoch 95/100\n",
      "4711/4711 [==============================] - 4s 887us/sample - loss: 0.2733 - acc: 0.9575 - val_loss: 2.2390 - val_acc: 0.7428\n",
      "Epoch 96/100\n",
      "4711/4711 [==============================] - 4s 856us/sample - loss: 0.0024 - acc: 0.9998 - val_loss: 2.3074 - val_acc: 0.7428\n",
      "Epoch 97/100\n",
      "4711/4711 [==============================] - 4s 854us/sample - loss: 0.0016 - acc: 1.0000 - val_loss: 2.4693 - val_acc: 0.7428\n",
      "Epoch 98/100\n",
      "4711/4711 [==============================] - 4s 860us/sample - loss: 0.0015 - acc: 1.0000 - val_loss: 2.8667 - val_acc: 0.7428\n",
      "Epoch 99/100\n",
      "4711/4711 [==============================] - 4s 867us/sample - loss: 0.0976 - acc: 0.9752 - val_loss: 1.2726 - val_acc: 0.7380\n",
      "Epoch 100/100\n",
      "4711/4711 [==============================] - 4s 847us/sample - loss: 0.0026 - acc: 0.9998 - val_loss: 1.5654 - val_acc: 0.7452\n"
     ]
    }
   ],
   "source": [
    "save_at = \"Inception_Model/inception_{}.h5\".format(objek)\n",
    "save_best = ModelCheckpoint (save_at, monitor='val_acc', verbose=0, save_best_only=True, save_weights_only=False, mode='max')\n",
    "hist = model.fit(X_train, Y_train, validation_data = (X_val, Y_val), callbacks=[save_best], batch_size=256, epochs = 100)"
   ]
  },
  {
   "cell_type": "code",
   "execution_count": 26,
   "id": "d1feba51",
   "metadata": {},
   "outputs": [],
   "source": [
    "# model.save('vgg_{}_81_float.h5'.format(objek))"
   ]
  },
  {
   "cell_type": "code",
   "execution_count": 27,
   "id": "70c08ee9",
   "metadata": {
    "scrolled": true
   },
   "outputs": [
    {
     "name": "stdout",
     "output_type": "stream",
     "text": [
      "0    MURA-v1.1/valid/XR_HAND/patient11365/study1_ne...\n",
      "1    MURA-v1.1/valid/XR_HAND/patient11601/study1_ne...\n",
      "2    MURA-v1.1/valid/XR_HAND/patient11597/study1_ne...\n",
      "3    MURA-v1.1/valid/XR_HAND/patient11519/study1_po...\n",
      "4    MURA-v1.1/valid/XR_HAND/patient11509/study1_po...\n",
      "Name: path, dtype: object\n",
      "Total Data =  (460, 150, 150, 3)\n"
     ]
    }
   ],
   "source": [
    "X_test, Y_test = prepare_data(\"{}_val_path_label.csv\".format(objek))\n",
    "# X_test, Y_test = prepare_data(\"finger_val_path_label.csv\")"
   ]
  },
  {
   "cell_type": "code",
   "execution_count": 28,
   "id": "3e0150e7",
   "metadata": {
    "scrolled": true
   },
   "outputs": [
    {
     "name": "stdout",
     "output_type": "stream",
     "text": [
      "Accuracy over the test set: \n",
      "  58.91 %\n"
     ]
    }
   ],
   "source": [
    "model_load = load_model(\"Inception_Model/inception_{}.h5\".format(objek))\n",
    "score = model_load.evaluate(X_test, Y_test, verbose=0)\n",
    "print('Accuracy over the test set: \\n ', round((score[1]*100), 2), '%')"
   ]
  },
  {
   "cell_type": "code",
   "execution_count": 29,
   "id": "cb0e49a6",
   "metadata": {},
   "outputs": [],
   "source": [
    "Y_pred = model_load.predict(X_test/255)"
   ]
  },
  {
   "cell_type": "code",
   "execution_count": 30,
   "id": "55fa68de",
   "metadata": {},
   "outputs": [
    {
     "data": {
      "text/plain": [
       "(460, 150, 150, 3)"
      ]
     },
     "execution_count": 30,
     "metadata": {},
     "output_type": "execute_result"
    }
   ],
   "source": [
    "X_test.shape"
   ]
  },
  {
   "cell_type": "code",
   "execution_count": 31,
   "id": "f4a67030",
   "metadata": {
    "scrolled": true
   },
   "outputs": [
    {
     "data": {
      "text/plain": [
       "<Figure size 432x288 with 0 Axes>"
      ]
     },
     "execution_count": 31,
     "metadata": {},
     "output_type": "execute_result"
    },
    {
     "data": {
      "text/plain": [
       "(<matplotlib.image.AxesImage at 0x170913ad7c8>, (-0.5, 149.5, 149.5, -0.5))"
      ]
     },
     "execution_count": 31,
     "metadata": {},
     "output_type": "execute_result"
    },
    {
     "ename": "NameError",
     "evalue": "name 'encoder' is not defined",
     "output_type": "error",
     "traceback": [
      "\u001b[1;31m---------------------------------------------------------------------------\u001b[0m",
      "\u001b[1;31mNameError\u001b[0m                                 Traceback (most recent call last)",
      "\u001b[1;32m~\\AppData\\Local\\Temp\\ipykernel_38708\\3366020802.py\u001b[0m in \u001b[0;36m<module>\u001b[1;34m\u001b[0m\n\u001b[0;32m      6\u001b[0m     \u001b[0mplt\u001b[0m\u001b[1;33m.\u001b[0m\u001b[0mtitle\u001b[0m\u001b[1;33m(\u001b[0m\u001b[0mencoder\u001b[0m\u001b[1;33m.\u001b[0m\u001b[0mclasses_\u001b[0m\u001b[1;33m[\u001b[0m\u001b[0mnp\u001b[0m\u001b[1;33m.\u001b[0m\u001b[0mwhere\u001b[0m\u001b[1;33m(\u001b[0m\u001b[0mY_pred\u001b[0m\u001b[1;33m[\u001b[0m\u001b[0mrand_num\u001b[0m\u001b[1;33m]\u001b[0m \u001b[1;33m==\u001b[0m \u001b[1;36m1\u001b[0m\u001b[1;33m)\u001b[0m\u001b[1;33m[\u001b[0m\u001b[1;36m0\u001b[0m\u001b[1;33m]\u001b[0m\u001b[1;33m.\u001b[0m\u001b[0msum\u001b[0m\u001b[1;33m(\u001b[0m\u001b[1;33m)\u001b[0m\u001b[1;33m]\u001b[0m\u001b[1;33m,\u001b[0m \u001b[0mcolor\u001b[0m\u001b[1;33m=\u001b[0m\u001b[1;34m'g'\u001b[0m\u001b[1;33m)\u001b[0m\u001b[1;33m\u001b[0m\u001b[1;33m\u001b[0m\u001b[0m\n\u001b[0;32m      7\u001b[0m   \u001b[1;32melse\u001b[0m \u001b[1;33m:\u001b[0m\u001b[1;33m\u001b[0m\u001b[1;33m\u001b[0m\u001b[0m\n\u001b[1;32m----> 8\u001b[1;33m     \u001b[0mplt\u001b[0m\u001b[1;33m.\u001b[0m\u001b[0mtitle\u001b[0m\u001b[1;33m(\u001b[0m\u001b[0mencoder\u001b[0m\u001b[1;33m.\u001b[0m\u001b[0mclasses_\u001b[0m\u001b[1;33m[\u001b[0m\u001b[0mnp\u001b[0m\u001b[1;33m.\u001b[0m\u001b[0mwhere\u001b[0m\u001b[1;33m(\u001b[0m\u001b[0mY_pred\u001b[0m\u001b[1;33m[\u001b[0m\u001b[0mrand_num\u001b[0m\u001b[1;33m]\u001b[0m \u001b[1;33m==\u001b[0m \u001b[1;36m1\u001b[0m\u001b[1;33m)\u001b[0m\u001b[1;33m[\u001b[0m\u001b[1;36m0\u001b[0m\u001b[1;33m]\u001b[0m\u001b[1;33m.\u001b[0m\u001b[0msum\u001b[0m\u001b[1;33m(\u001b[0m\u001b[1;33m)\u001b[0m\u001b[1;33m]\u001b[0m\u001b[1;33m,\u001b[0m \u001b[0mcolor\u001b[0m\u001b[1;33m=\u001b[0m\u001b[1;34m'r'\u001b[0m\u001b[1;33m)\u001b[0m\u001b[1;33m\u001b[0m\u001b[1;33m\u001b[0m\u001b[0m\n\u001b[0m",
      "\u001b[1;31mNameError\u001b[0m: name 'encoder' is not defined"
     ]
    },
    {
     "data": {
      "image/png": "[encoded data removed]",
      "text/plain": [
       "<Figure size 432x288 with 1 Axes>"
      ]
     },
     "metadata": {
      "needs_background": "light"
     },
     "output_type": "display_data"
    }
   ],
   "source": [
    "np.random.seed(89)\n",
    "for rand_num in np.random.randint(0, len(Y_test), 15):\n",
    "  plt.figure()\n",
    "  plt.imshow(X_test[rand_num].astype('int')), plt.axis('off')\n",
    "  if np.where(Y_pred[rand_num] == 1)[0].sum() == np.where(Y_test[rand_num] == 1)[0].sum():\n",
    "    plt.title(encoder.classes_[np.where(Y_pred[rand_num] == 1)[0].sum()], color='g')\n",
    "  else :\n",
    "    plt.title(encoder.classes_[np.where(Y_pred[rand_num] == 1)[0].sum()], color='r')"
   ]
  },
  {
   "cell_type": "code",
   "execution_count": null,
   "id": "73fe9e6e",
   "metadata": {},
   "outputs": [],
   "source": []
  }
 ],
 "metadata": {
  "kernelspec": {
   "display_name": "Python 3 (ipykernel)",
   "language": "python",
   "name": "python3"
  },
  "language_info": {
   "codemirror_mode": {
    "name": "ipython",
    "version": 3
   },
   "file_extension": ".py",
   "mimetype": "text/x-python",
   "name": "python",
   "nbconvert_exporter": "python",
   "pygments_lexer": "ipython3",
   "version": "3.7.13"
  }
 },
 "nbformat": 4,
 "nbformat_minor": 5
}
